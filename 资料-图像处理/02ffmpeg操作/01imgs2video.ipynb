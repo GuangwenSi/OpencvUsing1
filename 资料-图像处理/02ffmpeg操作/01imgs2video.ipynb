{
 "cells": [
  {
   "cell_type": "code",
   "execution_count": 1,
   "metadata": {},
   "outputs": [],
   "source": [
    "#!/usr/bin/env python\n",
    "# -*- coding:utf-8 -*-\n",
    "# @FileName  :gif_mp4.py\n",
    "# @Time      :2021/7/2 14:45\n",
    "# @Author    :guangwensi\n",
    "# @Function  : ffmpeg的使用积累"
   ]
  },
  {
   "cell_type": "markdown",
   "metadata": {},
   "source": [
    "# 1 图片转视频 "
   ]
  },
  {
   "cell_type": "code",
   "execution_count": 2,
   "metadata": {},
   "outputs": [],
   "source": [
    "# 1.基本格式\n",
    "#\n",
    "# 终端输入： ffmpeg -f image2 -i /home/ttwang/images/image%d.jpg tt.mp4\n",
    "#\n",
    "# 其中/home/ttwang/images/images%d.jpg 为图片路径\n",
    "# 图片的命名格式为image%d.jpg形式，即：image0 image1 image2 .......\n",
    "# tt.mp4为输出视频文件名\n",
    "#\n",
    "# 2.指定编码格式的使用\n",
    "#\n",
    "# 终端输入： ffmpeg -f image2 -i /home/ttwang/images/image%d.jpg  -vcodec libx264  tt.mp4\n",
    "#\n",
    "# 3.指定输出帧率\n",
    "#\n",
    "# 终端输入：ffmpeg -f image2 -i /home/ttwang/images/image%d.jpg  -vcodec libx264 -r 10  tt.mp4\n",
    "#\n",
    "# -r 10 表示定义帧率为10，这样输出的视频就是每秒播放十帧"
   ]
  },
  {
   "cell_type": "code",
   "execution_count": null,
   "metadata": {
    "collapsed": true
   },
   "outputs": [],
   "source": [
    "import os\n",
    "\n",
    "\n",
    "\n",
    "\n",
    "\n",
    "path = 'D:\\work\\\\CV\\\\AutoEncoderDecoder\\\\code_parkour\\parkour\\\\riverRush\\\\' \\\n",
    "       'boosting_time\\\\boosting_slice40_20_10_5_according_loss\\\\'\n",
    "\n",
    "# 控制生成视频的质量及帧率以及压缩的方式\n",
    "os.system(\"ffmpeg -f image2 -r 2 -i {}%6d.png -vcodec libx265 riverrush2.mp4\".format(path))\n",
    "os.system(\"ffmpeg -f image2 -r 2 -i {}%6d.png  -c:v libx264 -b:v 5626k riverrush4.mp4\".format(path))\n",
    "os.system(\"ffmpeg -f image2 -r 2 -i {}%6d.png  -pix_fmt yuv420p  riverrush6.mp4\".format(path))\n",
    "\n",
    "\n",
    "# path = 'D:\\\\work\\\\CV\\\\AutoEncoderDecoder\\\\code_parkour\\\\fresh_video\\\\surfing'\n",
    "\n",
    "\n",
    "\n",
    "\n",
    "\n",
    "\n",
    "\n"
   ]
  },
  {
   "cell_type": "markdown",
   "metadata": {},
   "source": [
    " # 2 gif转视频"
   ]
  },
  {
   "cell_type": "code",
   "execution_count": null,
   "metadata": {},
   "outputs": [],
   "source": [
    "os.system(\"ffmpeg -i {} -r 25 {}%06d.png\".format(parkour_pra.fresh_video,parkour_pra.fresh_img_path))\n",
    "os.system(\"ffmpeg -f gif -i zhongkeyuan.gif test1.avi\")"
   ]
  },
  {
   "cell_type": "markdown",
   "metadata": {},
   "source": [
    "# 3  视频转gif"
   ]
  },
  {
   "cell_type": "code",
   "execution_count": null,
   "metadata": {},
   "outputs": [],
   "source": [
    "\n",
    "os.system(\"ffmpeg -i riverrush6.mp4 -pix_fmt rgb24 riverrush6.gif\")"
   ]
  },
  {
   "cell_type": "code",
   "execution_count": null,
   "metadata": {},
   "outputs": [],
   "source": []
  },
  {
   "cell_type": "code",
   "execution_count": null,
   "metadata": {},
   "outputs": [],
   "source": []
  },
  {
   "cell_type": "code",
   "execution_count": null,
   "metadata": {},
   "outputs": [],
   "source": []
  },
  {
   "cell_type": "code",
   "execution_count": null,
   "metadata": {},
   "outputs": [],
   "source": []
  },
  {
   "cell_type": "code",
   "execution_count": null,
   "metadata": {},
   "outputs": [],
   "source": []
  },
  {
   "cell_type": "code",
   "execution_count": null,
   "metadata": {},
   "outputs": [],
   "source": []
  },
  {
   "cell_type": "code",
   "execution_count": null,
   "metadata": {},
   "outputs": [],
   "source": []
  },
  {
   "cell_type": "code",
   "execution_count": null,
   "metadata": {},
   "outputs": [],
   "source": []
  },
  {
   "cell_type": "code",
   "execution_count": null,
   "metadata": {},
   "outputs": [],
   "source": []
  },
  {
   "cell_type": "code",
   "execution_count": null,
   "metadata": {},
   "outputs": [],
   "source": []
  },
  {
   "cell_type": "code",
   "execution_count": null,
   "metadata": {},
   "outputs": [],
   "source": []
  }
 ],
 "metadata": {
  "kernelspec": {
   "display_name": "Python 3",
   "language": "python",
   "name": "python3"
  },
  "language_info": {
   "codemirror_mode": {
    "name": "ipython",
    "version": 3
   },
   "file_extension": ".py",
   "mimetype": "text/x-python",
   "name": "python",
   "nbconvert_exporter": "python",
   "pygments_lexer": "ipython3",
   "version": "3.7.7"
  }
 },
 "nbformat": 4,
 "nbformat_minor": 1
}
